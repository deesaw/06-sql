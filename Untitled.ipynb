{
 "cells": [
  {
   "cell_type": "code",
   "execution_count": 46,
   "metadata": {},
   "outputs": [
    {
     "name": "stdout",
     "output_type": "stream",
     "text": [
      "10\n"
     ]
    }
   ],
   "source": [
    "#age,brand,price,discount\n",
    "class car:\n",
    "    def __init__(self,age,brand,price,luxury,di):\n",
    "        self.age=age\n",
    "        self.cbrand=brand\n",
    "        print(age)\n",
    "        if di==0:\n",
    "            self.price=price\n",
    "        else:\n",
    "            self.price=((100-di)*price)/100\n",
    "        '''\n",
    "        if luxury:\n",
    "            self.has_sunrroof=True\n",
    "        else:\n",
    "            self.has_sunrroof=False\n",
    "        '''\n",
    "a=car(10,'m',100,False,di=20)\n",
    "        "
   ]
  },
  {
   "cell_type": "code",
   "execution_count": 67,
   "metadata": {},
   "outputs": [
    {
     "name": "stdout",
     "output_type": "stream",
     "text": [
      "{1: 9, 9: 1, 8: 2, 4: 6, 5: 5}\n",
      "1 9\n",
      "9 1\n",
      "5 5\n"
     ]
    }
   ],
   "source": [
    "a=[1,9,8,4,5,5,5]\n",
    "l=len(a)\n",
    "dicto={}\n",
    "num=10\n",
    "for i in a:\n",
    "    dicto[i]=num-i\n",
    "print(dicto)\n",
    "for i,j in dicto.items():\n",
    "    if j in dicto.keys():\n",
    "        print(i,j)\n",
    "\n",
    "        "
   ]
  },
  {
   "cell_type": "code",
   "execution_count": 62,
   "metadata": {},
   "outputs": [
    {
     "data": {
      "text/plain": [
       "{1: 9, 8: 2, 4: 6, 5: 5}"
      ]
     },
     "execution_count": 62,
     "metadata": {},
     "output_type": "execute_result"
    }
   ],
   "source": [
    "dicto"
   ]
  },
  {
   "cell_type": "code",
   "execution_count": 68,
   "metadata": {},
   "outputs": [
    {
     "name": "stdout",
     "output_type": "stream",
     "text": [
      "9 1\n",
      "1 9\n",
      "5 5\n",
      "5 5\n",
      "5 5\n"
     ]
    }
   ],
   "source": [
    "for i in a:\n",
    "    if num-i not in dicto.keys():\n",
    "        dicto[i]=num-i\n",
    "    else:\n",
    "        print(num-i,dicto[num-i])\n"
   ]
  },
  {
   "cell_type": "code",
   "execution_count": 69,
   "metadata": {},
   "outputs": [
    {
     "name": "stdout",
     "output_type": "stream",
     "text": [
      "[1, 2]\n",
      "[1, 2]\n"
     ]
    }
   ],
   "source": [
    "a=[]\n",
    "b=a\n",
    "a.append(1)\n",
    "b.append(2)\n",
    "print(a)\n",
    "print(b)"
   ]
  },
  {
   "cell_type": "code",
   "execution_count": null,
   "metadata": {},
   "outputs": [],
   "source": []
  }
 ],
 "metadata": {
  "kernelspec": {
   "display_name": "Python 3",
   "language": "python",
   "name": "python3"
  },
  "language_info": {
   "codemirror_mode": {
    "name": "ipython",
    "version": 3
   },
   "file_extension": ".py",
   "mimetype": "text/x-python",
   "name": "python",
   "nbconvert_exporter": "python",
   "pygments_lexer": "ipython3",
   "version": "3.7.6"
  }
 },
 "nbformat": 4,
 "nbformat_minor": 4
}
